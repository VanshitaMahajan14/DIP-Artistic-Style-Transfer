{
 "cells": [
  {
   "cell_type": "code",
   "execution_count": 1,
   "metadata": {},
   "outputs": [],
   "source": [
    "import numpy as np\n",
    "import cv2\n",
    "\n",
    "imsize = 400\n",
    "\n",
    "# Load and resize the content image\n",
    "content = cv2.imread(\"./images/house 2-small.jpg\")\n",
    "content = cv2.cvtColor(content, cv2.COLOR_BGR2RGB)\n",
    "content = content[0:imsize, 0:imsize]\n",
    "\n",
    "# Load and resize the style image\n",
    "style = cv2.imread(\"./images/starry-night - small.jpg\")\n",
    "style = cv2.cvtColor(style, cv2.COLOR_BGR2RGB)\n",
    "style = style[0:imsize, 0:imsize]\n"
   ]
  },
  {
   "cell_type": "code",
   "execution_count": 3,
   "metadata": {},
   "outputs": [],
   "source": [
    "# Define a function for style transfer (you need to implement this function)\n",
    "def style_transfer(content, style,hallucinated , mask, hallcoeff, wcoeff, patch_sizes, scales, imsize):\n",
    "    return hallucinated"
   ]
  },
  {
   "cell_type": "code",
   "execution_count": null,
   "metadata": {},
   "outputs": [],
   "source": []
  }
 ],
 "metadata": {
  "kernelspec": {
   "display_name": "Python 3",
   "language": "python",
   "name": "python3"
  },
  "language_info": {
   "codemirror_mode": {
    "name": "ipython",
    "version": 3
   },
   "file_extension": ".py",
   "mimetype": "text/x-python",
   "name": "python",
   "nbconvert_exporter": "python",
   "pygments_lexer": "ipython3",
   "version": "3.8.10"
  }
 },
 "nbformat": 4,
 "nbformat_minor": 2
}
