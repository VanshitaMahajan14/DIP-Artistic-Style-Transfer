{
 "cells": [
  {
   "cell_type": "code",
   "execution_count": 1,
   "metadata": {},
   "outputs": [],
   "source": [
    "import numpy as np\n",
    "import cv2\n",
    "\n",
    "imsize = 400\n",
    "\n",
    "# Load and resize the content image\n",
    "content = cv2.imread(\"./images/house 2-small.jpg\")\n",
    "content = cv2.cvtColor(content, cv2.COLOR_BGR2RGB)\n",
    "content = content[0:imsize, 0:imsize]\n",
    "\n",
    "# Load and resize the style image\n",
    "style = cv2.imread(\"./images/starry-night - small.jpg\")\n",
    "style = cv2.cvtColor(style, cv2.COLOR_BGR2RGB)\n",
    "style = style[0:imsize, 0:imsize]\n"
   ]
  },
  {
   "cell_type": "code",
   "execution_count": 3,
   "metadata": {},
   "outputs": [],
   "source": [
    "# Define a function for style transfer (you need to implement this function)\n",
    "def style_transfer(content, style,hallucinated , mask, hallcoeff, wcoeff, patch_sizes, scales, imsize):\n",
    "    # Initialize variables\n",
    "    C0 = content.reshape(-1)\n",
    "    S0 = style.reshape(-1)\n",
    "\n",
    "    # One-dimensional image\n",
    "    sigma_s = 5\n",
    "    sigma_r = 0.2\n",
    "    h0 = imsize\n",
    "    w0 = imsize\n",
    "    c = 3\n",
    "\n",
    "    # Initialize C to color palette of S using histogram matching\n",
    "    C0 = cv2.createCLAHE(clipLimit=2.0, tileGridSize=(8, 8)).apply((content * 255).astype(np.uint8))\n",
    "    C0 = C0 / 255  # Rescale back to the range [0, 1]\n",
    "    C0 = C0.reshape(-1)\n",
    "\n",
    "    gap_sizes = [28, 18, 9, 6]\n",
    "    X = C0\n",
    "    X = X + np.max(X) * np.random.randn(X.size)  # Add large noise at the beginning\n",
    "    X = X.reshape(-1)\n",
    "    \n",
    "    return hallucinated"
   ]
  },
  {
   "cell_type": "code",
   "execution_count": null,
   "metadata": {},
   "outputs": [],
   "source": []
  }
 ],
 "metadata": {
  "kernelspec": {
   "display_name": "Python 3",
   "language": "python",
   "name": "python3"
  },
  "language_info": {
   "codemirror_mode": {
    "name": "ipython",
    "version": 3
   },
   "file_extension": ".py",
   "mimetype": "text/x-python",
   "name": "python",
   "nbconvert_exporter": "python",
   "pygments_lexer": "ipython3",
   "version": "3.8.10"
  }
 },
 "nbformat": 4,
 "nbformat_minor": 2
}
